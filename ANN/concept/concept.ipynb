{
 "cells": [
  {
   "cell_type": "markdown",
   "metadata": {},
   "source": [
    "# Feedforward Neural Network - Bank Churn Prediction Training"
   ]
  },
  {
   "cell_type": "markdown",
   "metadata": {},
   "source": [
    "## Part 0: Import libraries\n",
    "The default import for Keras will use Tensorflow backend."
   ]
  },
  {
   "cell_type": "code",
   "execution_count": 1,
   "metadata": {},
   "outputs": [
    {
     "name": "stderr",
     "output_type": "stream",
     "text": [
      "Using TensorFlow backend.\n"
     ]
    }
   ],
   "source": [
    "import keras\n",
    "import matplotlib.pyplot as plt\n",
    "import numpy as np\n",
    "import pandas as pd\n",
    "from keras.layers import Dense\n",
    "from keras.models import Sequential\n",
    "from sklearn.metrics import accuracy_score, confusion_matrix\n",
    "from sklearn.model_selection import train_test_split\n",
    "from sklearn.preprocessing import LabelEncoder, OneHotEncoder, StandardScaler"
   ]
  },
  {
   "cell_type": "markdown",
   "metadata": {},
   "source": [
    "## Part 1: Data Processing\n",
    "\n",
    "The first step of data processing is to load data with pandas csv function and split the dataset into independent variables and dependent variable. \n",
    "\n",
    "Independent variable is also the properties to be used for training. Dependent variable is also the outcome that we want to predict. "
   ]
  },
  {
   "cell_type": "code",
   "execution_count": 2,
   "metadata": {},
   "outputs": [
    {
     "name": "stdout",
     "output_type": "stream",
     "text": [
      "      RowNumber  CustomerId         Surname  CreditScore Geography  Gender  \\\n",
      "0             1    15634602        Hargrave          619    France  Female   \n",
      "1             2    15647311            Hill          608     Spain  Female   \n",
      "2             3    15619304            Onio          502    France  Female   \n",
      "3             4    15701354            Boni          699    France  Female   \n",
      "4             5    15737888        Mitchell          850     Spain  Female   \n",
      "5             6    15574012             Chu          645     Spain    Male   \n",
      "6             7    15592531        Bartlett          822    France    Male   \n",
      "7             8    15656148          Obinna          376   Germany  Female   \n",
      "8             9    15792365              He          501    France    Male   \n",
      "9            10    15592389              H?          684    France    Male   \n",
      "10           11    15767821          Bearce          528    France    Male   \n",
      "11           12    15737173         Andrews          497     Spain    Male   \n",
      "12           13    15632264             Kay          476    France  Female   \n",
      "13           14    15691483            Chin          549    France  Female   \n",
      "14           15    15600882           Scott          635     Spain  Female   \n",
      "15           16    15643966         Goforth          616   Germany    Male   \n",
      "16           17    15737452           Romeo          653   Germany    Male   \n",
      "17           18    15788218       Henderson          549     Spain  Female   \n",
      "18           19    15661507         Muldrow          587     Spain    Male   \n",
      "19           20    15568982             Hao          726    France  Female   \n",
      "20           21    15577657        McDonald          732    France    Male   \n",
      "21           22    15597945        Dellucci          636     Spain  Female   \n",
      "22           23    15699309       Gerasimov          510     Spain  Female   \n",
      "23           24    15725737          Mosman          669    France    Male   \n",
      "24           25    15625047             Yen          846    France  Female   \n",
      "25           26    15738191         Maclean          577    France    Male   \n",
      "26           27    15736816           Young          756   Germany    Male   \n",
      "27           28    15700772         Nebechi          571    France    Male   \n",
      "28           29    15728693      McWilliams          574   Germany  Female   \n",
      "29           30    15656300        Lucciano          411    France    Male   \n",
      "...         ...         ...             ...          ...       ...     ...   \n",
      "9970       9971    15587133        Thompson          518    France    Male   \n",
      "9971       9972    15721377            Chou          833    France  Female   \n",
      "9972       9973    15747927           Ch'in          758    France    Male   \n",
      "9973       9974    15806455          Miller          611    France    Male   \n",
      "9974       9975    15695474          Barker          583    France    Male   \n",
      "9975       9976    15666295           Smith          610   Germany    Male   \n",
      "9976       9977    15656062         Azikiwe          637    France  Female   \n",
      "9977       9978    15579969         Mancini          683    France  Female   \n",
      "9978       9979    15703563           P'eng          774    France    Male   \n",
      "9979       9980    15692664          Diribe          677    France  Female   \n",
      "9980       9981    15719276            T'ao          741     Spain    Male   \n",
      "9981       9982    15672754        Burbidge          498   Germany    Male   \n",
      "9982       9983    15768163         Griffin          655   Germany  Female   \n",
      "9983       9984    15656710           Cocci          613    France    Male   \n",
      "9984       9985    15696175  Echezonachukwu          602   Germany    Male   \n",
      "9985       9986    15586914          Nepean          659    France    Male   \n",
      "9986       9987    15581736        Bartlett          673   Germany    Male   \n",
      "9987       9988    15588839         Mancini          606     Spain    Male   \n",
      "9988       9989    15589329         Pirozzi          775    France    Male   \n",
      "9989       9990    15605622        McMillan          841     Spain    Male   \n",
      "9990       9991    15798964      Nkemakonam          714   Germany    Male   \n",
      "9991       9992    15769959     Ajuluchukwu          597    France  Female   \n",
      "9992       9993    15657105     Chukwualuka          726     Spain    Male   \n",
      "9993       9994    15569266          Rahman          644    France    Male   \n",
      "9994       9995    15719294            Wood          800    France  Female   \n",
      "9995       9996    15606229        Obijiaku          771    France    Male   \n",
      "9996       9997    15569892       Johnstone          516    France    Male   \n",
      "9997       9998    15584532             Liu          709    France  Female   \n",
      "9998       9999    15682355       Sabbatini          772   Germany    Male   \n",
      "9999      10000    15628319          Walker          792    France  Female   \n",
      "\n",
      "      Age  Tenure    Balance  NumOfProducts  HasCrCard  IsActiveMember  \\\n",
      "0      42       2       0.00              1          1               1   \n",
      "1      41       1   83807.86              1          0               1   \n",
      "2      42       8  159660.80              3          1               0   \n",
      "3      39       1       0.00              2          0               0   \n",
      "4      43       2  125510.82              1          1               1   \n",
      "5      44       8  113755.78              2          1               0   \n",
      "6      50       7       0.00              2          1               1   \n",
      "7      29       4  115046.74              4          1               0   \n",
      "8      44       4  142051.07              2          0               1   \n",
      "9      27       2  134603.88              1          1               1   \n",
      "10     31       6  102016.72              2          0               0   \n",
      "11     24       3       0.00              2          1               0   \n",
      "12     34      10       0.00              2          1               0   \n",
      "13     25       5       0.00              2          0               0   \n",
      "14     35       7       0.00              2          1               1   \n",
      "15     45       3  143129.41              2          0               1   \n",
      "16     58       1  132602.88              1          1               0   \n",
      "17     24       9       0.00              2          1               1   \n",
      "18     45       6       0.00              1          0               0   \n",
      "19     24       6       0.00              2          1               1   \n",
      "20     41       8       0.00              2          1               1   \n",
      "21     32       8       0.00              2          1               0   \n",
      "22     38       4       0.00              1          1               0   \n",
      "23     46       3       0.00              2          0               1   \n",
      "24     38       5       0.00              1          1               1   \n",
      "25     25       3       0.00              2          0               1   \n",
      "26     36       2  136815.64              1          1               1   \n",
      "27     44       9       0.00              2          0               0   \n",
      "28     43       3  141349.43              1          1               1   \n",
      "29     29       0   59697.17              2          1               1   \n",
      "...   ...     ...        ...            ...        ...             ...   \n",
      "9970   42       7  151027.05              2          1               0   \n",
      "9971   34       3  144751.81              1          0               0   \n",
      "9972   26       4  155739.76              1          1               0   \n",
      "9973   27       7       0.00              2          1               1   \n",
      "9974   33       7  122531.86              1          1               0   \n",
      "9975   50       1  113957.01              2          1               0   \n",
      "9976   33       7  103377.81              1          1               0   \n",
      "9977   32       9       0.00              2          1               1   \n",
      "9978   40       9   93017.47              2          1               0   \n",
      "9979   58       1   90022.85              1          0               1   \n",
      "9980   35       6   74371.49              1          0               0   \n",
      "9981   42       3  152039.70              1          1               1   \n",
      "9982   46       7  137145.12              1          1               0   \n",
      "9983   40       4       0.00              1          0               0   \n",
      "9984   35       7   90602.42              2          1               1   \n",
      "9985   36       6  123841.49              2          1               0   \n",
      "9986   47       1  183579.54              2          0               1   \n",
      "9987   30       8  180307.73              2          1               1   \n",
      "9988   30       4       0.00              2          1               0   \n",
      "9989   28       4       0.00              2          1               1   \n",
      "9990   33       3   35016.60              1          1               0   \n",
      "9991   53       4   88381.21              1          1               0   \n",
      "9992   36       2       0.00              1          1               0   \n",
      "9993   28       7  155060.41              1          1               0   \n",
      "9994   29       2       0.00              2          0               0   \n",
      "9995   39       5       0.00              2          1               0   \n",
      "9996   35      10   57369.61              1          1               1   \n",
      "9997   36       7       0.00              1          0               1   \n",
      "9998   42       3   75075.31              2          1               0   \n",
      "9999   28       4  130142.79              1          1               0   \n",
      "\n",
      "      EstimatedSalary  Exited  \n",
      "0           101348.88       1  \n",
      "1           112542.58       0  \n",
      "2           113931.57       1  \n",
      "3            93826.63       0  \n",
      "4            79084.10       0  \n",
      "5           149756.71       1  \n",
      "6            10062.80       0  \n",
      "7           119346.88       1  \n",
      "8            74940.50       0  \n",
      "9            71725.73       0  \n",
      "10           80181.12       0  \n",
      "11           76390.01       0  \n",
      "12           26260.98       0  \n",
      "13          190857.79       0  \n",
      "14           65951.65       0  \n",
      "15           64327.26       0  \n",
      "16            5097.67       1  \n",
      "17           14406.41       0  \n",
      "18          158684.81       0  \n",
      "19           54724.03       0  \n",
      "20          170886.17       0  \n",
      "21          138555.46       0  \n",
      "22          118913.53       1  \n",
      "23            8487.75       0  \n",
      "24          187616.16       0  \n",
      "25          124508.29       0  \n",
      "26          170041.95       0  \n",
      "27           38433.35       0  \n",
      "28          100187.43       0  \n",
      "29           53483.21       0  \n",
      "...               ...     ...  \n",
      "9970        119377.36       0  \n",
      "9971        166472.81       0  \n",
      "9972        171552.02       0  \n",
      "9973        157474.10       0  \n",
      "9974         13549.24       0  \n",
      "9975        196526.55       1  \n",
      "9976         84419.78       0  \n",
      "9977         24991.92       0  \n",
      "9978        191608.97       0  \n",
      "9979          2988.28       0  \n",
      "9980         99595.67       0  \n",
      "9981         53445.17       1  \n",
      "9982        115146.40       1  \n",
      "9983        151325.24       0  \n",
      "9984         51695.41       0  \n",
      "9985         96833.00       0  \n",
      "9986         34047.54       0  \n",
      "9987          1914.41       0  \n",
      "9988         49337.84       0  \n",
      "9989        179436.60       0  \n",
      "9990         53667.08       0  \n",
      "9991         69384.71       1  \n",
      "9992        195192.40       0  \n",
      "9993         29179.52       0  \n",
      "9994        167773.55       0  \n",
      "9995         96270.64       0  \n",
      "9996        101699.77       0  \n",
      "9997         42085.58       1  \n",
      "9998         92888.52       1  \n",
      "9999         38190.78       0  \n",
      "\n",
      "[10000 rows x 14 columns]\n"
     ]
    }
   ],
   "source": [
    "# Importing the dataset\n",
    "\n",
    "dataset = pd.read_csv('Churn_Modelling.csv')\n",
    "\n",
    "# print out the dataset to inspect\n",
    "print(dataset)"
   ]
  },
  {
   "cell_type": "code",
   "execution_count": 3,
   "metadata": {},
   "outputs": [],
   "source": [
    "# independent variables\n",
    "X = dataset.iloc[:, 3:13].values\n",
    "\n",
    "# dependent variables: outcome\n",
    "y = dataset.iloc[:, 13].values"
   ]
  },
  {
   "cell_type": "markdown",
   "metadata": {},
   "source": [
    "### Encoding properties\n",
    "\n",
    "Some variables are designed by string or enums, so we need to encode into numerical variable in order to feed into our neural network. Everything is all calculated in a math way!"
   ]
  },
  {
   "cell_type": "code",
   "execution_count": 4,
   "metadata": {},
   "outputs": [],
   "source": [
    "# Encoding for countries\n",
    "labelencoder_X_1 = LabelEncoder()\n",
    "X[:, 1] = labelencoder_X_1.fit_transform(X[:, 1])\n",
    "\n",
    "# Encoding for gender\n",
    "labelencoder_X_2 = LabelEncoder()\n",
    "X[:, 2] = labelencoder_X_2.fit_transform(X[:, 2])"
   ]
  },
  {
   "cell_type": "markdown",
   "metadata": {},
   "source": [
    "### Handle dummy variables\n",
    "\n",
    "The countries variable is not `ordinal` after encoding, France, German,\n",
    "Spain has no ordinal relationship. If we just simply use ordinal number to represent countries, the result will be affected in calculation. Hence, we need to create dummy variable.\n",
    "gender has no need to do it due to it only has two category (binary state).\n",
    "\n",
    "Moreover, please be care of dummy variable trap problem. There is a great example of dummy variable trap probelm in [Chinese](http://belleaya.pixnet.net/blog/post/30877354-%5B%E6%95%99%E5%AD%B8%5D-%5B%E7%B5%B1%E8%A8%88%5D-%E8%99%9B%E6%93%AC%E8%AE%8A%E6%95%B8-dummy-variable) and [English](http://www.algosome.com/articles/dummy-variable-trap-regression.html)"
   ]
  },
  {
   "cell_type": "code",
   "execution_count": 5,
   "metadata": {},
   "outputs": [],
   "source": [
    "# add dummy variable for country code\n",
    "onehotencoder = OneHotEncoder(categorical_features=[1])\n",
    "X = onehotencoder.fit_transform(X).toarray()\n",
    "# avoid dummy variable trap for country code by removing one column\n",
    "X = X[:, 1:]"
   ]
  },
  {
   "cell_type": "markdown",
   "metadata": {},
   "source": [
    "### Splitting the dataset into the Training set and Test set\n",
    "\n",
    "When we have some dataset for supervised machine learning, we can separate into two datasets. One for training and one for test the prediction."
   ]
  },
  {
   "cell_type": "code",
   "execution_count": 6,
   "metadata": {},
   "outputs": [],
   "source": [
    "X_train, X_test, y_train, y_test = train_test_split(X, y, test_size=0.2, random_state=0)"
   ]
  },
  {
   "cell_type": "markdown",
   "metadata": {},
   "source": [
    "### Feature Scaling\n",
    "\n",
    "We definitely need to do [Feature Scaling](https://en.wikipedia.org/wiki/Feature_scaling) to standardize our input properties. Feature scaling can facilitate intensive computation. Also, feature scaling will affect the calculation speed for gradient descent. We use standard scaling here. "
   ]
  },
  {
   "cell_type": "code",
   "execution_count": 7,
   "metadata": {},
   "outputs": [],
   "source": [
    "sc = StandardScaler()\n",
    "X_train = sc.fit_transform(X_train)\n",
    "X_test = sc.transform(X_test)"
   ]
  },
  {
   "cell_type": "markdown",
   "metadata": {},
   "source": [
    "## Part 2: Build Neural Network\n",
    "\n",
    "There are two way to implement neural network in Keras, by `graph` or `sequential`. This example is a classification problem to determine a given customer will leave or stay. Also, we can use sigmoid function as output layer's activation function to output the probability of leaving.\n",
    "\n",
    "TODO: add a figure here to visualize the neural network layers.\n",
    "\n",
    "TODO: also need to take notes on each parameter.\n",
    "\n",
    "TODO: a lot of math stuff bellow need to be figured out."
   ]
  },
  {
   "cell_type": "code",
   "execution_count": 8,
   "metadata": {},
   "outputs": [],
   "source": [
    "# Initialising the ANN\n",
    "classifier = Sequential()\n",
    "\n",
    "# we can use the average number of inputs and outputs as output_dim variable by experience.\n",
    "# Adding the input layer and the first hidden layer, units parameter is also called output_dim\n",
    "input_layer = Dense(units=6, kernel_initializer='uniform', activation='relu', input_dim=11)\n",
    "classifier.add(input_layer)\n",
    "\n",
    "# Adding the second hidden layer\n",
    "hidden_layer = Dense(units=6, kernel_initializer='uniform', activation='relu')\n",
    "classifier.add(hidden_layer)"
   ]
  },
  {
   "cell_type": "code",
   "execution_count": 9,
   "metadata": {},
   "outputs": [],
   "source": [
    "# Adding the output layer\n",
    "# if we want to output as categories for countries, we need to change units to 3,\n",
    "# and the activation function must use Softmax. Use Softmax when we need to deal\n",
    "# with more than two categorical dependent variables.\n",
    "\n",
    "output_layer = Dense(units=1, kernel_initializer='uniform', activation='sigmoid')\n",
    "classifier.add(output_layer)"
   ]
  },
  {
   "cell_type": "code",
   "execution_count": 10,
   "metadata": {},
   "outputs": [],
   "source": [
    "# Compile the ANN\n",
    "# loss function also need to change to categorical_crossentropy for categorical results\n",
    "classifier.compile(optimizer='adam', loss='binary_crossentropy', metrics=['accuracy'])"
   ]
  },
  {
   "cell_type": "markdown",
   "metadata": {},
   "source": [
    "## Part3: Fitting the ANN to the Training set\n",
    "\n",
    "### Decide the training parameters\n",
    "1. update weights each observation (reinforcement learning). This is also a stochastic gradient dependent).\n",
    "2. update weights after a batch of observation (batch learning)\n",
    "3. when the whole training set passed through the ANN, that makes an epoch.\n"
   ]
  },
  {
   "cell_type": "code",
   "execution_count": 11,
   "metadata": {
    "scrolled": true
   },
   "outputs": [
    {
     "name": "stdout",
     "output_type": "stream",
     "text": [
      "Epoch 1/100\n",
      "8000/8000 [==============================] - 2s - loss: 0.4736 - acc: 0.7960     \n",
      "Epoch 2/100\n",
      "8000/8000 [==============================] - 2s - loss: 0.4298 - acc: 0.7960     \n",
      "Epoch 3/100\n",
      "8000/8000 [==============================] - 2s - loss: 0.4240 - acc: 0.7961     \n",
      "Epoch 4/100\n",
      "8000/8000 [==============================] - 2s - loss: 0.4198 - acc: 0.8186     \n",
      "Epoch 5/100\n",
      "8000/8000 [==============================] - 2s - loss: 0.4168 - acc: 0.8275     \n",
      "Epoch 6/100\n",
      "8000/8000 [==============================] - 2s - loss: 0.4149 - acc: 0.8306     \n",
      "Epoch 7/100\n",
      "8000/8000 [==============================] - 2s - loss: 0.4137 - acc: 0.8320     \n",
      "Epoch 8/100\n",
      "8000/8000 [==============================] - 2s - loss: 0.4123 - acc: 0.8326     \n",
      "Epoch 9/100\n",
      "8000/8000 [==============================] - 2s - loss: 0.4110 - acc: 0.8334     \n",
      "Epoch 10/100\n",
      "8000/8000 [==============================] - 2s - loss: 0.4102 - acc: 0.8317     \n",
      "Epoch 11/100\n",
      "8000/8000 [==============================] - 2s - loss: 0.4092 - acc: 0.8345     \n",
      "Epoch 12/100\n",
      "8000/8000 [==============================] - 2s - loss: 0.4087 - acc: 0.8327     \n",
      "Epoch 13/100\n",
      "8000/8000 [==============================] - 2s - loss: 0.4088 - acc: 0.8321     \n",
      "Epoch 14/100\n",
      "8000/8000 [==============================] - 2s - loss: 0.4074 - acc: 0.8347     \n",
      "Epoch 15/100\n",
      "8000/8000 [==============================] - 2s - loss: 0.4069 - acc: 0.8355     \n",
      "Epoch 16/100\n",
      "8000/8000 [==============================] - 2s - loss: 0.4065 - acc: 0.8340     \n",
      "Epoch 17/100\n",
      "8000/8000 [==============================] - 2s - loss: 0.4061 - acc: 0.8344     \n",
      "Epoch 18/100\n",
      "8000/8000 [==============================] - 2s - loss: 0.4059 - acc: 0.8336     \n",
      "Epoch 19/100\n",
      "8000/8000 [==============================] - 2s - loss: 0.4057 - acc: 0.8356     \n",
      "Epoch 20/100\n",
      "8000/8000 [==============================] - 2s - loss: 0.4052 - acc: 0.8340     \n",
      "Epoch 21/100\n",
      "8000/8000 [==============================] - 2s - loss: 0.4052 - acc: 0.8355     \n",
      "Epoch 22/100\n",
      "8000/8000 [==============================] - 2s - loss: 0.4044 - acc: 0.8346     \n",
      "Epoch 23/100\n",
      "8000/8000 [==============================] - 2s - loss: 0.4048 - acc: 0.8344     \n",
      "Epoch 24/100\n",
      "8000/8000 [==============================] - 2s - loss: 0.4045 - acc: 0.8347     \n",
      "Epoch 25/100\n",
      "8000/8000 [==============================] - 2s - loss: 0.4040 - acc: 0.8335     \n",
      "Epoch 26/100\n",
      "8000/8000 [==============================] - 2s - loss: 0.4039 - acc: 0.8334     \n",
      "Epoch 27/100\n",
      "8000/8000 [==============================] - 2s - loss: 0.4036 - acc: 0.8346     \n",
      "Epoch 28/100\n",
      "8000/8000 [==============================] - 2s - loss: 0.4035 - acc: 0.8339     \n",
      "Epoch 29/100\n",
      "8000/8000 [==============================] - 2s - loss: 0.4033 - acc: 0.8339     \n",
      "Epoch 30/100\n",
      "8000/8000 [==============================] - 2s - loss: 0.4030 - acc: 0.8355     \n",
      "Epoch 31/100\n",
      "8000/8000 [==============================] - 2s - loss: 0.4029 - acc: 0.8334     \n",
      "Epoch 32/100\n",
      "8000/8000 [==============================] - 2s - loss: 0.4026 - acc: 0.8356     \n",
      "Epoch 33/100\n",
      "8000/8000 [==============================] - 2s - loss: 0.4025 - acc: 0.8361     \n",
      "Epoch 34/100\n",
      "8000/8000 [==============================] - 2s - loss: 0.4026 - acc: 0.8341     \n",
      "Epoch 35/100\n",
      "8000/8000 [==============================] - 2s - loss: 0.4028 - acc: 0.8352     \n",
      "Epoch 36/100\n",
      "8000/8000 [==============================] - 2s - loss: 0.4025 - acc: 0.8350     \n",
      "Epoch 37/100\n",
      "8000/8000 [==============================] - 2s - loss: 0.4022 - acc: 0.8344     \n",
      "Epoch 38/100\n",
      "8000/8000 [==============================] - 2s - loss: 0.4019 - acc: 0.8339     \n",
      "Epoch 39/100\n",
      "8000/8000 [==============================] - 2s - loss: 0.4021 - acc: 0.8347     \n",
      "Epoch 40/100\n",
      "8000/8000 [==============================] - 2s - loss: 0.4023 - acc: 0.8352     \n",
      "Epoch 41/100\n",
      "8000/8000 [==============================] - 2s - loss: 0.4020 - acc: 0.8345     \n",
      "Epoch 42/100\n",
      "8000/8000 [==============================] - 2s - loss: 0.4023 - acc: 0.8347     \n",
      "Epoch 43/100\n",
      "8000/8000 [==============================] - 2s - loss: 0.4021 - acc: 0.8344     \n",
      "Epoch 44/100\n",
      "8000/8000 [==============================] - 2s - loss: 0.4019 - acc: 0.8356     \n",
      "Epoch 45/100\n",
      "8000/8000 [==============================] - 2s - loss: 0.4015 - acc: 0.8352     \n",
      "Epoch 46/100\n",
      "8000/8000 [==============================] - 2s - loss: 0.4017 - acc: 0.8362     \n",
      "Epoch 47/100\n",
      "8000/8000 [==============================] - 2s - loss: 0.4018 - acc: 0.8365     \n",
      "Epoch 48/100\n",
      "8000/8000 [==============================] - 2s - loss: 0.4017 - acc: 0.8339     \n",
      "Epoch 49/100\n",
      "8000/8000 [==============================] - 2s - loss: 0.4018 - acc: 0.8354     \n",
      "Epoch 50/100\n",
      "8000/8000 [==============================] - 2s - loss: 0.4019 - acc: 0.8352     \n",
      "Epoch 51/100\n",
      "8000/8000 [==============================] - 2s - loss: 0.4012 - acc: 0.8332     \n",
      "Epoch 52/100\n",
      "8000/8000 [==============================] - 2s - loss: 0.4020 - acc: 0.8345     \n",
      "Epoch 53/100\n",
      "8000/8000 [==============================] - 2s - loss: 0.4017 - acc: 0.8345     \n",
      "Epoch 54/100\n",
      "8000/8000 [==============================] - 2s - loss: 0.4018 - acc: 0.8347     \n",
      "Epoch 55/100\n",
      "8000/8000 [==============================] - 2s - loss: 0.4017 - acc: 0.8354     \n",
      "Epoch 56/100\n",
      "8000/8000 [==============================] - 2s - loss: 0.4015 - acc: 0.8342     \n",
      "Epoch 57/100\n",
      "8000/8000 [==============================] - 2s - loss: 0.4014 - acc: 0.8346     \n",
      "Epoch 58/100\n",
      "8000/8000 [==============================] - 2s - loss: 0.4011 - acc: 0.8345     \n",
      "Epoch 59/100\n",
      "8000/8000 [==============================] - 2s - loss: 0.4011 - acc: 0.8360     \n",
      "Epoch 60/100\n",
      "8000/8000 [==============================] - 2s - loss: 0.4013 - acc: 0.8352     \n",
      "Epoch 61/100\n",
      "8000/8000 [==============================] - 2s - loss: 0.4012 - acc: 0.8347     \n",
      "Epoch 62/100\n",
      "8000/8000 [==============================] - 2s - loss: 0.4018 - acc: 0.8360     \n",
      "Epoch 63/100\n",
      "8000/8000 [==============================] - 2s - loss: 0.4015 - acc: 0.8361     \n",
      "Epoch 64/100\n",
      "8000/8000 [==============================] - 2s - loss: 0.4014 - acc: 0.8342     \n",
      "Epoch 65/100\n",
      "8000/8000 [==============================] - 2s - loss: 0.4015 - acc: 0.8349     \n",
      "Epoch 66/100\n",
      "8000/8000 [==============================] - 2s - loss: 0.4018 - acc: 0.8344     \n",
      "Epoch 67/100\n",
      "8000/8000 [==============================] - 2s - loss: 0.4011 - acc: 0.8366     \n",
      "Epoch 68/100\n",
      "8000/8000 [==============================] - 2s - loss: 0.4015 - acc: 0.8361     \n",
      "Epoch 69/100\n",
      "8000/8000 [==============================] - 2s - loss: 0.4011 - acc: 0.8357     \n",
      "Epoch 70/100\n",
      "8000/8000 [==============================] - 2s - loss: 0.4017 - acc: 0.8344     \n",
      "Epoch 71/100\n",
      "8000/8000 [==============================] - 2s - loss: 0.4014 - acc: 0.8347     \n",
      "Epoch 72/100\n",
      "8000/8000 [==============================] - 2s - loss: 0.4011 - acc: 0.8369     \n",
      "Epoch 73/100\n",
      "8000/8000 [==============================] - 2s - loss: 0.4009 - acc: 0.8345     \n",
      "Epoch 74/100\n",
      "8000/8000 [==============================] - 2s - loss: 0.4010 - acc: 0.8350     \n",
      "Epoch 75/100\n",
      "8000/8000 [==============================] - 2s - loss: 0.4014 - acc: 0.8357     \n",
      "Epoch 76/100\n",
      "8000/8000 [==============================] - 2s - loss: 0.4013 - acc: 0.8337     \n",
      "Epoch 77/100\n",
      "8000/8000 [==============================] - 2s - loss: 0.4008 - acc: 0.8351     \n",
      "Epoch 78/100\n",
      "8000/8000 [==============================] - 2s - loss: 0.4013 - acc: 0.8349     \n",
      "Epoch 79/100\n",
      "8000/8000 [==============================] - 2s - loss: 0.4010 - acc: 0.8340     \n",
      "Epoch 80/100\n",
      "8000/8000 [==============================] - 2s - loss: 0.4013 - acc: 0.8341     \n",
      "Epoch 81/100\n",
      "8000/8000 [==============================] - 2s - loss: 0.4006 - acc: 0.8345     \n",
      "Epoch 82/100\n",
      "8000/8000 [==============================] - 2s - loss: 0.4011 - acc: 0.8354     \n",
      "Epoch 83/100\n",
      "8000/8000 [==============================] - 2s - loss: 0.4009 - acc: 0.8346     \n",
      "Epoch 84/100\n",
      "8000/8000 [==============================] - 2s - loss: 0.4010 - acc: 0.8359     \n",
      "Epoch 85/100\n",
      "8000/8000 [==============================] - 2s - loss: 0.4012 - acc: 0.8345     \n",
      "Epoch 86/100\n",
      "8000/8000 [==============================] - 2s - loss: 0.4010 - acc: 0.8342     \n",
      "Epoch 87/100\n"
     ]
    },
    {
     "name": "stdout",
     "output_type": "stream",
     "text": [
      "8000/8000 [==============================] - 2s - loss: 0.4005 - acc: 0.8355     \n",
      "Epoch 88/100\n",
      "8000/8000 [==============================] - 2s - loss: 0.4010 - acc: 0.8349     \n",
      "Epoch 89/100\n",
      "8000/8000 [==============================] - 2s - loss: 0.4013 - acc: 0.8346     \n",
      "Epoch 90/100\n",
      "8000/8000 [==============================] - 2s - loss: 0.4008 - acc: 0.8352     \n",
      "Epoch 91/100\n",
      "8000/8000 [==============================] - 2s - loss: 0.4009 - acc: 0.8357     \n",
      "Epoch 92/100\n",
      "8000/8000 [==============================] - 2s - loss: 0.4011 - acc: 0.8342     \n",
      "Epoch 93/100\n",
      "8000/8000 [==============================] - 2s - loss: 0.4009 - acc: 0.8345     \n",
      "Epoch 94/100\n",
      "8000/8000 [==============================] - 2s - loss: 0.4010 - acc: 0.8342     \n",
      "Epoch 95/100\n",
      "8000/8000 [==============================] - 2s - loss: 0.4007 - acc: 0.8364     \n",
      "Epoch 96/100\n",
      "8000/8000 [==============================] - 2s - loss: 0.4005 - acc: 0.8350     \n",
      "Epoch 97/100\n",
      "8000/8000 [==============================] - 2s - loss: 0.4006 - acc: 0.8349     \n",
      "Epoch 98/100\n",
      "8000/8000 [==============================] - 2s - loss: 0.4006 - acc: 0.8347     \n",
      "Epoch 99/100\n",
      "8000/8000 [==============================] - 2s - loss: 0.4006 - acc: 0.8357     \n",
      "Epoch 100/100\n",
      "8000/8000 [==============================] - 2s - loss: 0.4004 - acc: 0.8351     \n"
     ]
    },
    {
     "data": {
      "text/plain": [
       "<keras.callbacks.History at 0x1059ef9b0>"
      ]
     },
     "execution_count": 11,
     "metadata": {},
     "output_type": "execute_result"
    }
   ],
   "source": [
    "classifier.fit(X_train, y_train, batch_size=10, epochs=100)"
   ]
  },
  {
   "cell_type": "markdown",
   "metadata": {},
   "source": [
    "## Part 4: Making predictions and evaluating the model"
   ]
  },
  {
   "cell_type": "code",
   "execution_count": 12,
   "metadata": {},
   "outputs": [
    {
     "name": "stdout",
     "output_type": "stream",
     "text": [
      "[[False]\n",
      " [False]\n",
      " [False]\n",
      " ..., \n",
      " [False]\n",
      " [False]\n",
      " [False]]\n"
     ]
    }
   ],
   "source": [
    "# Predicting the Test set results\n",
    "y_pred = classifier.predict(X_test)\n",
    "\n",
    "# numpy can convert all array into conditional result\n",
    "y_pred = (y_pred > 0.5)\n",
    "\n",
    "print(y_pred)"
   ]
  },
  {
   "cell_type": "markdown",
   "metadata": {},
   "source": [
    "### Making the Confusion Matrix\n",
    "\n",
    "Confusion matrix is to evaluate the accurracy of your prediction. Please read the following article to understand more. It acutally simply display the prediction result and the test dataset to see how many result is the same in its category.\n",
    "\n",
    "- [Simple guide](http://www.dataschool.io/simple-guide-to-confusion-matrix-terminology/)\n",
    "- [Wiki](https://en.wikipedia.org/wiki/Confusion_matrix)\n",
    "- [scikit-learning reference](http://scikit-learn.org/stable/modules/classes.html#module-sklearn.metrics)"
   ]
  },
  {
   "cell_type": "code",
   "execution_count": 13,
   "metadata": {},
   "outputs": [
    {
     "name": "stdout",
     "output_type": "stream",
     "text": [
      "[[1554   41]\n",
      " [ 281  124]]\n",
      "accuracy: 0.839\n"
     ]
    }
   ],
   "source": [
    "cm = confusion_matrix(y_test, y_pred)\n",
    "print(cm)\n",
    "\n",
    "# you can calculate the accuracy on your own\n",
    "accuracy = (cm[0][0] + cm[1][1]) / len(y_pred)\n",
    "\n",
    "# or simply use scikit learn function\n",
    "accuracy = accuracy_score(y_test, y_pred)\n",
    "\n",
    "print(f'accuracy: {accuracy}')"
   ]
  },
  {
   "cell_type": "markdown",
   "metadata": {},
   "source": [
    "### Predicting a single new observation\n",
    "\n",
    "We can try to predict single customer's result by generate a new test array. \n",
    "\n",
    "Let's try to predict the customer with the following informations will leave the bank:\n",
    "```\n",
    "Geography: France\n",
    "Credit Score: 600\n",
    "Gender: Male\n",
    "Age: 40\n",
    "Tenure: 3\n",
    "Balance: 60000\n",
    "Number of Products: 2\n",
    "Has Credit Card: Yes\n",
    "Is Active Member: Yes\n",
    "Estimated Salary: 50000\n",
    "```"
   ]
  },
  {
   "cell_type": "code",
   "execution_count": 15,
   "metadata": {},
   "outputs": [
    {
     "name": "stdout",
     "output_type": "stream",
     "text": [
      "[[False]]\n"
     ]
    }
   ],
   "source": [
    "# add 0.0 to avoid warning: \n",
    "# DataConversionWarning: Data with input dtype int64 was converted to float64 by StandardScaler.\n",
    "new_test = np.array([[0.0, 0, 600, 1, 40, 3, 60000, 2, 1, 1, 50000]])\n",
    "new_test = sc.transform(new_test)\n",
    "new_prediction = classifier.predict(new_test)\n",
    "new_prediction = (new_prediction > 0.5)\n",
    "print(new_prediction)"
   ]
  },
  {
   "cell_type": "markdown",
   "metadata": {},
   "source": [
    "## Next steps"
   ]
  },
  {
   "cell_type": "markdown",
   "metadata": {},
   "source": [
    "Next step is to evaluate the model configuration and try to find tune to the optimal performance. We'll talk about `K-fold cross validation` for evaluating the model and `Dropout` for tuning the model."
   ]
  }
 ],
 "metadata": {
  "kernelspec": {
   "display_name": "Python 3",
   "language": "python",
   "name": "python3"
  },
  "language_info": {
   "codemirror_mode": {
    "name": "ipython",
    "version": 3
   },
   "file_extension": ".py",
   "mimetype": "text/x-python",
   "name": "python",
   "nbconvert_exporter": "python",
   "pygments_lexer": "ipython3",
   "version": "3.6.3"
  },
  "toc": {
   "colors": {
    "hover_highlight": "#DAA520",
    "navigate_num": "#000000",
    "navigate_text": "#333333",
    "running_highlight": "#FF0000",
    "selected_highlight": "#FFD700",
    "sidebar_border": "#EEEEEE",
    "wrapper_background": "#FFFFFF"
   },
   "moveMenuLeft": true,
   "nav_menu": {
    "height": "315px",
    "width": "252px"
   },
   "navigate_menu": true,
   "number_sections": true,
   "sideBar": true,
   "threshold": 4,
   "toc_cell": false,
   "toc_section_display": "block",
   "toc_window_display": true,
   "widenNotebook": false
  }
 },
 "nbformat": 4,
 "nbformat_minor": 2
}
